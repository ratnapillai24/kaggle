{
 "cells": [
  {
   "cell_type": "code",
   "execution_count": 1,
   "metadata": {
    "_cell_guid": "b1076dfc-b9ad-4769-8c92-a6c4dae69d19",
    "_uuid": "8f2839f25d086af736a60e9eeb907d3b93b6e0e5"
   },
   "outputs": [
    {
     "name": "stdout",
     "output_type": "stream",
     "text": [
      "/kaggle/input/gender-equality-un-unpaid-work-data/unpaid_work.csv\n"
     ]
    }
   ],
   "source": [
    "# This Python 3 environment comes with many helpful analytics libraries installed\n",
    "# It is defined by the kaggle/python docker image: https://github.com/kaggle/docker-python\n",
    "# For example, here's several helpful packages to load in \n",
    "\n",
    "import numpy as np # linear algebra\n",
    "import pandas as pd # data processing, CSV file I/O (e.g. pd.read_csv)\n",
    "\n",
    "# Input data files are available in the \"../input/\" directory.\n",
    "# For example, running this (by clicking run or pressing Shift+Enter) will list all files under the input directory\n",
    "\n",
    "import os\n",
    "for dirname, _, filenames in os.walk('/kaggle/input'):\n",
    "    for filename in filenames:\n",
    "        print(os.path.join(dirname, filename))\n",
    "\n",
    "# Any results you write to the current directory are saved as output."
   ]
  },
  {
   "cell_type": "code",
   "execution_count": 2,
   "metadata": {
    "_cell_guid": "79c7e3d0-c299-4dcb-8224-4455121ee9b0",
    "_uuid": "d629ff2d2480ee46fbb7e2d37f6b5fab8052498a"
   },
   "outputs": [],
   "source": [
    "df = pd.read_csv('/kaggle/input/gender-equality-un-unpaid-work-data/unpaid_work.csv',encoding = \"ISO-8859-1\")"
   ]
  },
  {
   "cell_type": "code",
   "execution_count": 3,
   "metadata": {},
   "outputs": [
    {
     "data": {
      "text/plain": [
       "Age                       0\n",
       "Area                    728\n",
       "Country                   0\n",
       "Survey Availability       0\n",
       "Time use                  0\n",
       "Year                      0\n",
       "Average Time (hours)      6\n",
       "Gender                    0\n",
       "dtype: int64"
      ]
     },
     "execution_count": 3,
     "metadata": {},
     "output_type": "execute_result"
    }
   ],
   "source": [
    "df.shape #796,8\n",
    "#check for null values\n",
    "df.isna().sum() #Area field has most of the null values, thus can be avoided being used in analysis"
   ]
  },
  {
   "cell_type": "code",
   "execution_count": 4,
   "metadata": {},
   "outputs": [
    {
     "data": {
      "text/plain": [
       "Age                      object\n",
       "Area                     object\n",
       "Country                  object\n",
       "Survey Availability      object\n",
       "Time use                 object\n",
       "Year                     object\n",
       "Average Time (hours)    float64\n",
       "Gender                   object\n",
       "dtype: object"
      ]
     },
     "execution_count": 4,
     "metadata": {},
     "output_type": "execute_result"
    }
   ],
   "source": [
    "df.dtypes"
   ]
  },
  {
   "cell_type": "code",
   "execution_count": 5,
   "metadata": {},
   "outputs": [
    {
     "data": {
      "text/plain": [
       "15+            224\n",
       "20 to 74       152\n",
       "10+            144\n",
       "12+             88\n",
       "15 to 64        28\n",
       "6 to 65         16\n",
       "16 to 74        16\n",
       "18+             12\n",
       "15 to 74        12\n",
       "19 to 65        12\n",
       "6+               8\n",
       "16+              8\n",
       "5+               8\n",
       "20 to 64         8\n",
       "Unknown age      8\n",
       "15 to 80         8\n",
       "15 to 60         8\n",
       "14+              8\n",
       "15 to 49         8\n",
       "15+?             4\n",
       "15 to 84         4\n",
       "10 to 74         4\n",
       "15 to 59         4\n",
       "20 to 59         4\n",
       "Name: Age, dtype: int64"
      ]
     },
     "execution_count": 5,
     "metadata": {},
     "output_type": "execute_result"
    }
   ],
   "source": [
    "df_copy = df.copy()\n",
    "df_copy['Age'].value_counts()\n",
    "#Age colummn is differently classified and can be standardised based on EOCD labour classification\n",
    "#15-24\n",
    "#25-54\n",
    "#55-64"
   ]
  },
  {
   "cell_type": "code",
   "execution_count": 6,
   "metadata": {},
   "outputs": [
    {
     "data": {
      "text/plain": [
       "2005 and later    468\n",
       "1995 - 2004       276\n",
       "1985 - 1994        12\n",
       "2015               12\n",
       "1998-00             8\n",
       "Up to 1984          8\n",
       "1997-98             4\n",
       "2004-05             4\n",
       "2006-07             4\n",
       "Name: Survey Availability, dtype: int64"
      ]
     },
     "execution_count": 6,
     "metadata": {},
     "output_type": "execute_result"
    }
   ],
   "source": [
    "df_copy['Survey Availability'].value_counts()\n",
    "#Upto 1984\n",
    "#1985-1994\n",
    "#1995-2004\n",
    "#1997-1998 \n",
    "#1998-00 \n",
    "#2004-05\n",
    "#2006-07\n",
    "#2005 and later\n",
    "#2015\n"
   ]
  },
  {
   "cell_type": "code",
   "execution_count": 7,
   "metadata": {},
   "outputs": [
    {
     "data": {
      "text/plain": [
       "2005 and later    476\n",
       "1995 - 2004       288\n",
       "1985 - 1994        12\n",
       "Up to 1984          8\n",
       "Name: Survey Availability, dtype: int64"
      ]
     },
     "execution_count": 7,
     "metadata": {},
     "output_type": "execute_result"
    }
   ],
   "source": [
    "#Replace and change the groups for 10 years data each\n",
    "df_copy['Survey Availability'] = df_copy['Survey Availability'].map({'Up to 1984':'Up to 1984','1985 - 1994':'1985 - 1994',\n",
    "                                                                     '1995 - 2004':'1995 - 2004','2005 and later':'2005 and later',\n",
    "                                                                     '1997-98': '1995 - 2004', '1998-00': '1995 - 2004', \n",
    "                                                                     '2004-05':'2005 and later', '2006-07':'2005 and later'})\n",
    "\n",
    "df_copy['Survey Availability'].value_counts()\n",
    "#after changing\n",
    "#upto 1984\n",
    "#1985-1994\n",
    "#1995-2004\n",
    "#2005 and later\n",
    "#Now it's much better"
   ]
  },
  {
   "cell_type": "code",
   "execution_count": 8,
   "metadata": {},
   "outputs": [
    {
     "data": {
      "text/plain": [
       "Unpaid domestic, care and volunteer work    398\n",
       "Paid and subsistence work                   398\n",
       "Name: Time use, dtype: int64"
      ]
     },
     "execution_count": 8,
     "metadata": {},
     "output_type": "execute_result"
    }
   ],
   "source": [
    "df_copy['Time use'].value_counts()"
   ]
  },
  {
   "cell_type": "code",
   "execution_count": 9,
   "metadata": {},
   "outputs": [],
   "source": [
    "#group data by survey availability,country, gender,time use and age\n",
    "df_copy.shape #796, 8\n",
    "df_new = df_copy.groupby(['Survey Availability','Year','Country','Gender','Time use','Age']).mean().reset_index()"
   ]
  },
  {
   "cell_type": "code",
   "execution_count": 10,
   "metadata": {},
   "outputs": [
    {
     "data": {
      "text/plain": [
       "[<matplotlib.lines.Line2D at 0x7f0cef274048>]"
      ]
     },
     "execution_count": 10,
     "metadata": {},
     "output_type": "execute_result"
    },
    {
     "data": {
      "image/png": "[encoded data removed]",
      "text/plain": [
       "<Figure size 432x288 with 1 Axes>"
      ]
     },
     "metadata": {},
     "output_type": "display_data"
    }
   ],
   "source": [
    "%matplotlib inline\n",
    "import matplotlib.pyplot as plt\n",
    "plt.style.use('seaborn-whitegrid')\n",
    "import numpy as np\n",
    "fig = plt.figure()\n",
    "ax = plt.axes()\n",
    "plt.plot(df_new['Average Time (hours)'], color='g')  # solid green"
   ]
  },
  {
   "cell_type": "code",
   "execution_count": 11,
   "metadata": {},
   "outputs": [
    {
     "data": {
      "text/plain": [
       "15+            200\n",
       "20 to 74       152\n",
       "10+            144\n",
       "12+             80\n",
       "15 to 64        28\n",
       "16 to 74        16\n",
       "18+             12\n",
       "15 to 74        12\n",
       "19 to 65        12\n",
       "Unknown age      8\n",
       "6+               8\n",
       "16+              8\n",
       "5+               8\n",
       "20 to 64         8\n",
       "15 to 60         8\n",
       "15 to 80         8\n",
       "14+              8\n",
       "6 to 65          8\n",
       "15+?             4\n",
       "15 to 84         4\n",
       "10 to 74         4\n",
       "15 to 59         4\n",
       "20 to 59         4\n",
       "15 to 49         4\n",
       "Name: Age, dtype: int64"
      ]
     },
     "execution_count": 11,
     "metadata": {},
     "output_type": "execute_result"
    }
   ],
   "source": [
    "df_new.shape #752, 7\n",
    "#We are just left with age column to be cleaned\n",
    "df_new.Age.value_counts()"
   ]
  },
  {
   "cell_type": "code",
   "execution_count": 12,
   "metadata": {},
   "outputs": [
    {
     "data": {
      "text/html": [
       "<div>\n",
       "<style scoped>\n",
       "    .dataframe tbody tr th:only-of-type {\n",
       "        vertical-align: middle;\n",
       "    }\n",
       "\n",
       "    .dataframe tbody tr th {\n",
       "        vertical-align: top;\n",
       "    }\n",
       "\n",
       "    .dataframe thead th {\n",
       "        text-align: right;\n",
       "    }\n",
       "</style>\n",
       "<table border=\"1\" class=\"dataframe\">\n",
       "  <thead>\n",
       "    <tr style=\"text-align: right;\">\n",
       "      <th></th>\n",
       "      <th>Survey Availability</th>\n",
       "      <th>Year</th>\n",
       "      <th>Country</th>\n",
       "      <th>Gender</th>\n",
       "      <th>Time use</th>\n",
       "      <th>Age</th>\n",
       "      <th>Average Time (hours)</th>\n",
       "      <th>min_age</th>\n",
       "      <th>max_age</th>\n",
       "    </tr>\n",
       "  </thead>\n",
       "  <tbody>\n",
       "    <tr>\n",
       "      <th>0</th>\n",
       "      <td>1985 - 1994</td>\n",
       "      <td>1987</td>\n",
       "      <td>Denmark</td>\n",
       "      <td>Men</td>\n",
       "      <td>Paid and subsistence work</td>\n",
       "      <td>16 to 74</td>\n",
       "      <td>4.750000</td>\n",
       "      <td>16</td>\n",
       "      <td>74</td>\n",
       "    </tr>\n",
       "    <tr>\n",
       "      <th>1</th>\n",
       "      <td>1985 - 1994</td>\n",
       "      <td>1987</td>\n",
       "      <td>Denmark</td>\n",
       "      <td>Men</td>\n",
       "      <td>Unpaid domestic, care and volunteer work</td>\n",
       "      <td>16 to 74</td>\n",
       "      <td>1.633333</td>\n",
       "      <td>16</td>\n",
       "      <td>74</td>\n",
       "    </tr>\n",
       "    <tr>\n",
       "      <th>2</th>\n",
       "      <td>1985 - 1994</td>\n",
       "      <td>1987</td>\n",
       "      <td>Denmark</td>\n",
       "      <td>Women</td>\n",
       "      <td>Paid and subsistence work</td>\n",
       "      <td>16 to 74</td>\n",
       "      <td>3.300000</td>\n",
       "      <td>16</td>\n",
       "      <td>74</td>\n",
       "    </tr>\n",
       "    <tr>\n",
       "      <th>3</th>\n",
       "      <td>1985 - 1994</td>\n",
       "      <td>1987</td>\n",
       "      <td>Denmark</td>\n",
       "      <td>Women</td>\n",
       "      <td>Unpaid domestic, care and volunteer work</td>\n",
       "      <td>16 to 74</td>\n",
       "      <td>3.050000</td>\n",
       "      <td>16</td>\n",
       "      <td>74</td>\n",
       "    </tr>\n",
       "    <tr>\n",
       "      <th>4</th>\n",
       "      <td>1985 - 1994</td>\n",
       "      <td>1992</td>\n",
       "      <td>Australia</td>\n",
       "      <td>Men</td>\n",
       "      <td>Paid and subsistence work</td>\n",
       "      <td>15 to 84</td>\n",
       "      <td>4.466667</td>\n",
       "      <td>15</td>\n",
       "      <td>84</td>\n",
       "    </tr>\n",
       "  </tbody>\n",
       "</table>\n",
       "</div>"
      ],
      "text/plain": [
       "  Survey Availability  Year    Country Gender  \\\n",
       "0         1985 - 1994  1987    Denmark    Men   \n",
       "1         1985 - 1994  1987    Denmark    Men   \n",
       "2         1985 - 1994  1987    Denmark  Women   \n",
       "3         1985 - 1994  1987    Denmark  Women   \n",
       "4         1985 - 1994  1992  Australia    Men   \n",
       "\n",
       "                                   Time use       Age  Average Time (hours)  \\\n",
       "0                 Paid and subsistence work  16 to 74              4.750000   \n",
       "1  Unpaid domestic, care and volunteer work  16 to 74              1.633333   \n",
       "2                 Paid and subsistence work  16 to 74              3.300000   \n",
       "3  Unpaid domestic, care and volunteer work  16 to 74              3.050000   \n",
       "4                 Paid and subsistence work  15 to 84              4.466667   \n",
       "\n",
       "  min_age max_age  \n",
       "0      16      74  \n",
       "1      16      74  \n",
       "2      16      74  \n",
       "3      16      74  \n",
       "4      15      84  "
      ]
     },
     "execution_count": 12,
     "metadata": {},
     "output_type": "execute_result"
    }
   ],
   "source": [
    "#we will change the age column to have three different columns, lower, upper and average age value\n",
    "df_new['Age'] = df_new['Age'].str.replace('+',' to 84',regex=True) #Adding end range as 84 as this is the standard maximum value \n",
    "                                                                   #considered in maxiumum cases\n",
    "\n",
    "df_new['min_age'] = df_new.Age.str.split('\\s+').str[0]\n",
    "df_new['max_age'] = df_new.Age.str.split('\\s+').str[-1]\n",
    "\n",
    "df_new.head()"
   ]
  },
  {
   "cell_type": "code",
   "execution_count": 13,
   "metadata": {},
   "outputs": [
    {
     "name": "stderr",
     "output_type": "stream",
     "text": [
      "/opt/conda/lib/python3.6/site-packages/pandas/core/indexing.py:205: SettingWithCopyWarning: \n",
      "A value is trying to be set on a copy of a slice from a DataFrame\n",
      "\n",
      "See the caveats in the documentation: http://pandas.pydata.org/pandas-docs/stable/user_guide/indexing.html#returning-a-view-versus-a-copy\n",
      "  self._setitem_with_indexer(indexer, value)\n"
     ]
    }
   ],
   "source": [
    "df_new['min_age'].value_counts()\n",
    "df_new['max_age'].loc[(df_new['max_age'] == \"age\")] = \"Unknown\"\n",
    "df_new['max_age'] = df_new['max_age'].str.replace('?','',regex=True)\n",
    "df_new['max_age'].value_counts()\n",
    "\n",
    "df_unknown = df_new[(df_new['min_age']=='Unknown') & (df_new['max_age']=='Unknown')]\n",
    "df_known = df_new[(df_new['min_age']!='Unknown') & (df_new['max_age'] != 'Unknown')]"
   ]
  },
  {
   "cell_type": "code",
   "execution_count": 14,
   "metadata": {},
   "outputs": [
    {
     "name": "stderr",
     "output_type": "stream",
     "text": [
      "/opt/conda/lib/python3.6/site-packages/ipykernel_launcher.py:1: SettingWithCopyWarning: \n",
      "A value is trying to be set on a copy of a slice from a DataFrame.\n",
      "Try using .loc[row_indexer,col_indexer] = value instead\n",
      "\n",
      "See the caveats in the documentation: http://pandas.pydata.org/pandas-docs/stable/user_guide/indexing.html#returning-a-view-versus-a-copy\n",
      "  \"\"\"Entry point for launching an IPython kernel.\n",
      "/opt/conda/lib/python3.6/site-packages/ipykernel_launcher.py:2: SettingWithCopyWarning: \n",
      "A value is trying to be set on a copy of a slice from a DataFrame.\n",
      "Try using .loc[row_indexer,col_indexer] = value instead\n",
      "\n",
      "See the caveats in the documentation: http://pandas.pydata.org/pandas-docs/stable/user_guide/indexing.html#returning-a-view-versus-a-copy\n",
      "  \n",
      "/opt/conda/lib/python3.6/site-packages/ipykernel_launcher.py:3: SettingWithCopyWarning: \n",
      "A value is trying to be set on a copy of a slice from a DataFrame.\n",
      "Try using .loc[row_indexer,col_indexer] = value instead\n",
      "\n",
      "See the caveats in the documentation: http://pandas.pydata.org/pandas-docs/stable/user_guide/indexing.html#returning-a-view-versus-a-copy\n",
      "  This is separate from the ipykernel package so we can avoid doing imports until\n",
      "/opt/conda/lib/python3.6/site-packages/ipykernel_launcher.py:4: SettingWithCopyWarning: \n",
      "A value is trying to be set on a copy of a slice from a DataFrame.\n",
      "Try using .loc[row_indexer,col_indexer] = value instead\n",
      "\n",
      "See the caveats in the documentation: http://pandas.pydata.org/pandas-docs/stable/user_guide/indexing.html#returning-a-view-versus-a-copy\n",
      "  after removing the cwd from sys.path.\n"
     ]
    }
   ],
   "source": [
    "df_known['min_age']=df_known['min_age'].astype(int)\n",
    "df_known['max_age']=df_known['max_age'].astype(int)\n",
    "df_known['avg_age'] = (df_known['min_age']+df_known['max_age'])//2\n",
    "df_unknown['avg_age'] = \"Unknown\""
   ]
  },
  {
   "cell_type": "code",
   "execution_count": 15,
   "metadata": {},
   "outputs": [
    {
     "data": {
      "text/plain": [
       "(752, 10)"
      ]
     },
     "execution_count": 15,
     "metadata": {},
     "output_type": "execute_result"
    }
   ],
   "source": [
    "df_known.head()\n",
    "df_unknown.head()\n",
    "#merge both df\n",
    "df_new = df_known.append(df_unknown)\n",
    "df_new.shape"
   ]
  },
  {
   "cell_type": "code",
   "execution_count": 16,
   "metadata": {},
   "outputs": [
    {
     "data": {
      "text/html": [
       "<div>\n",
       "<style scoped>\n",
       "    .dataframe tbody tr th:only-of-type {\n",
       "        vertical-align: middle;\n",
       "    }\n",
       "\n",
       "    .dataframe tbody tr th {\n",
       "        vertical-align: top;\n",
       "    }\n",
       "\n",
       "    .dataframe thead th {\n",
       "        text-align: right;\n",
       "    }\n",
       "</style>\n",
       "<table border=\"1\" class=\"dataframe\">\n",
       "  <thead>\n",
       "    <tr style=\"text-align: right;\">\n",
       "      <th></th>\n",
       "      <th>Survey Availability</th>\n",
       "      <th>Year</th>\n",
       "      <th>Country</th>\n",
       "      <th>Gender</th>\n",
       "      <th>Time use</th>\n",
       "      <th>Age</th>\n",
       "      <th>Average Time (hours)</th>\n",
       "      <th>min_age</th>\n",
       "      <th>max_age</th>\n",
       "      <th>avg_age</th>\n",
       "      <th>timeuseflag</th>\n",
       "    </tr>\n",
       "  </thead>\n",
       "  <tbody>\n",
       "    <tr>\n",
       "      <th>0</th>\n",
       "      <td>1985 - 1994</td>\n",
       "      <td>1987</td>\n",
       "      <td>Denmark</td>\n",
       "      <td>Men</td>\n",
       "      <td>Paid and subsistence work</td>\n",
       "      <td>16 to 74</td>\n",
       "      <td>4.750000</td>\n",
       "      <td>16</td>\n",
       "      <td>74</td>\n",
       "      <td>45</td>\n",
       "      <td>Paid</td>\n",
       "    </tr>\n",
       "    <tr>\n",
       "      <th>1</th>\n",
       "      <td>1985 - 1994</td>\n",
       "      <td>1987</td>\n",
       "      <td>Denmark</td>\n",
       "      <td>Men</td>\n",
       "      <td>Unpaid domestic, care and volunteer work</td>\n",
       "      <td>16 to 74</td>\n",
       "      <td>1.633333</td>\n",
       "      <td>16</td>\n",
       "      <td>74</td>\n",
       "      <td>45</td>\n",
       "      <td>Unpaid</td>\n",
       "    </tr>\n",
       "    <tr>\n",
       "      <th>2</th>\n",
       "      <td>1985 - 1994</td>\n",
       "      <td>1987</td>\n",
       "      <td>Denmark</td>\n",
       "      <td>Women</td>\n",
       "      <td>Paid and subsistence work</td>\n",
       "      <td>16 to 74</td>\n",
       "      <td>3.300000</td>\n",
       "      <td>16</td>\n",
       "      <td>74</td>\n",
       "      <td>45</td>\n",
       "      <td>Paid</td>\n",
       "    </tr>\n",
       "    <tr>\n",
       "      <th>3</th>\n",
       "      <td>1985 - 1994</td>\n",
       "      <td>1987</td>\n",
       "      <td>Denmark</td>\n",
       "      <td>Women</td>\n",
       "      <td>Unpaid domestic, care and volunteer work</td>\n",
       "      <td>16 to 74</td>\n",
       "      <td>3.050000</td>\n",
       "      <td>16</td>\n",
       "      <td>74</td>\n",
       "      <td>45</td>\n",
       "      <td>Unpaid</td>\n",
       "    </tr>\n",
       "    <tr>\n",
       "      <th>4</th>\n",
       "      <td>1985 - 1994</td>\n",
       "      <td>1992</td>\n",
       "      <td>Australia</td>\n",
       "      <td>Men</td>\n",
       "      <td>Paid and subsistence work</td>\n",
       "      <td>15 to 84</td>\n",
       "      <td>4.466667</td>\n",
       "      <td>15</td>\n",
       "      <td>84</td>\n",
       "      <td>49</td>\n",
       "      <td>Paid</td>\n",
       "    </tr>\n",
       "  </tbody>\n",
       "</table>\n",
       "</div>"
      ],
      "text/plain": [
       "  Survey Availability  Year    Country Gender  \\\n",
       "0         1985 - 1994  1987    Denmark    Men   \n",
       "1         1985 - 1994  1987    Denmark    Men   \n",
       "2         1985 - 1994  1987    Denmark  Women   \n",
       "3         1985 - 1994  1987    Denmark  Women   \n",
       "4         1985 - 1994  1992  Australia    Men   \n",
       "\n",
       "                                   Time use       Age  Average Time (hours)  \\\n",
       "0                 Paid and subsistence work  16 to 74              4.750000   \n",
       "1  Unpaid domestic, care and volunteer work  16 to 74              1.633333   \n",
       "2                 Paid and subsistence work  16 to 74              3.300000   \n",
       "3  Unpaid domestic, care and volunteer work  16 to 74              3.050000   \n",
       "4                 Paid and subsistence work  15 to 84              4.466667   \n",
       "\n",
       "  min_age max_age avg_age timeuseflag  \n",
       "0      16      74      45        Paid  \n",
       "1      16      74      45      Unpaid  \n",
       "2      16      74      45        Paid  \n",
       "3      16      74      45      Unpaid  \n",
       "4      15      84      49        Paid  "
      ]
     },
     "execution_count": 16,
     "metadata": {},
     "output_type": "execute_result"
    }
   ],
   "source": [
    "#Create a time use flag unpaid and paid for better visualization\n",
    "df_new['timeuseflag'] = df_new['Time use'].apply(lambda x: 'Paid' if 'Unpaid' not in x else 'Unpaid')\n",
    "\n",
    "df_new.head()\n",
    "#df['new column name'] = df['column name'].apply(lambda x: 'value if condition is met' if x condition else 'value if condition is not met')"
   ]
  },
  {
   "cell_type": "code",
   "execution_count": 17,
   "metadata": {},
   "outputs": [],
   "source": [
    "df_new.to_csv('unpaid_work_final.csv')"
   ]
  }
 ],
 "metadata": {
  "kernelspec": {
   "display_name": "Python 3",
   "language": "python",
   "name": "python3"
  },
  "language_info": {
   "codemirror_mode": {
    "name": "ipython",
    "version": 3
   },
   "file_extension": ".py",
   "mimetype": "text/x-python",
   "name": "python",
   "nbconvert_exporter": "python",
   "pygments_lexer": "ipython3",
   "version": "3.6.6"
  }
 },
 "nbformat": 4,
 "nbformat_minor": 4
}
